{
 "cells": [
  {
   "cell_type": "code",
   "execution_count": 1,
   "metadata": {
    "pycharm": {
     "name": "#%%\n"
    }
   },
   "outputs": [
    {
     "name": "stdout",
     "output_type": "stream",
     "text": [
      "                                      t count\n",
      "t                                            \n",
      "2019-10-21 00:00:00 2019-10-21 00:00:00     0\n",
      "2019-10-21 00:01:00 2019-10-21 00:01:00     0\n",
      "2019-10-21 00:02:00 2019-10-21 00:02:00     0\n",
      "2019-10-21 00:03:00 2019-10-21 00:03:00     0\n",
      "2019-10-21 00:04:00 2019-10-21 00:04:00     0\n",
      "...                                 ...   ...\n",
      "2019-11-17 22:55:00 2019-11-17 22:55:00     0\n",
      "2019-11-17 22:56:00 2019-11-17 22:56:00     0\n",
      "2019-11-17 22:57:00 2019-11-17 22:57:00     0\n",
      "2019-11-17 22:58:00 2019-11-17 22:58:00     0\n",
      "2019-11-17 22:59:00 2019-11-17 22:59:00     0\n",
      "\n",
      "[40320 rows x 2 columns]\n"
     ]
    }
   ],
   "source": [
    "# Data generation\n",
    "import json\n",
    "import time\n",
    "import math\n",
    "import random\n",
    "import statsmodels\n",
    "import pandas as pd\n",
    "from datetime import datetime\n",
    "import warnings\n",
    "warnings.filterwarnings('ignore')\n",
    "\n",
    "# Settable parameters\n",
    "timestamps_onemin = 4 * 7 * 24 * 60\n",
    "timestamp_start_s = 1571608800\n",
    "starting_hour = 8\n",
    "end_hour = 20\n",
    "room_capacity = 25\n",
    "lesson_duration_hours = 2\n",
    "lesson_duration_min = lesson_duration_hours * 60\n",
    "arrival_and_exit_delay_min = 8\n",
    "falloff_border = lesson_duration_min - arrival_and_exit_delay_min\n",
    "arrival_and_exit_coef_min = room_capacity / arrival_and_exit_delay_min\n",
    "\n",
    "# Function that models count of students in the room based on time of the day\n",
    "def count_in_room(cur_val, coef, delay_val, capacity, falloff_val):\n",
    "    cnt = capacity\n",
    "    lb = -math.floor(0.1 * capacity)\n",
    "    ub = math.ceil(0.1 * capacity)\n",
    "    \n",
    "    if cur_val <= delay_val:\n",
    "        cnt = min(max(math.floor(coef * cur_val) + random.randrange(lb, ub, 1), 0), capacity)\n",
    "    elif cur_val >= falloff_val:\n",
    "        cnt = max(min(capacity, math.floor(capacity - coef * (cur_val - falloff_val)) + random.randrange(lb, ub, 1)), 0)\n",
    "    # TODO: you can also model students going in and out of the room during the lesson\n",
    "    \n",
    "    return cnt\n",
    "\n",
    "generated_ts = pd.DataFrame(columns = ['t', 'count'])\n",
    "\n",
    "# Generating simulated students' count data - \n",
    "for i in range(timestamps_onemin):\n",
    "    cur_timestamp_s = timestamp_start_s + i * 60\n",
    "    cur_date = datetime.fromtimestamp(cur_timestamp_s)\n",
    "    cur_wd = cur_date.weekday()\n",
    "    cur_hour = cur_date.hour\n",
    "    cur_min = cur_date.minute\n",
    "    \n",
    "    cnt_in_room = 0\n",
    "    if (cur_wd < 5) & (cur_hour >= starting_hour) & (cur_hour <= end_hour):\n",
    "        lessons_cur_min = (cur_hour * 60 + cur_min) % lesson_duration_min \n",
    "        cnt_in_room = count_in_room(lessons_cur_min, arrival_and_exit_coef_min, arrival_and_exit_delay_min, room_capacity, falloff_border)\n",
    "    \n",
    "    df_row = pd.DataFrame([[cur_date, cnt_in_room]], columns=['t', 'count'])\n",
    "    generated_ts = generated_ts.append(df_row)\n",
    "        \n",
    "    # TODO: uncomment to check what is being generated    \n",
    "    # print(\"%s : %d\" % (cur_date , cnt_in_room))\n",
    "\n",
    "generated_ts.index = generated_ts.t\n",
    "print(generated_ts)"
   ]
  },
  {
   "cell_type": "code",
   "execution_count": 3,
   "metadata": {
    "pycharm": {
     "name": "#%%\n"
    }
   },
   "outputs": [],
   "source": [
    "# Data generation\n",
    "import json\n",
    "import time\n",
    "import math\n",
    "import random\n",
    "import statsmodels\n",
    "import pandas as pd\n",
    "from datetime import datetime\n",
    "import numpy as np\n",
    "import tensorflow as tf\n",
    "import os"
   ]
  },
  {
   "cell_type": "code",
   "execution_count": 15,
   "metadata": {
    "pycharm": {
     "name": "#%%\n"
    }
   },
   "outputs": [
    {
     "name": "stdout",
     "output_type": "stream",
     "text": [
      "                     SensorValues\n",
      "TimeStamps                       \n",
      "2022-05-23 16:08:21           0.0\n",
      "2022-05-23 16:13:21           5.0\n",
      "2022-05-23 16:18:21           5.0\n",
      "2022-05-23 16:23:21           5.0\n",
      "2022-05-23 16:28:21           5.0\n",
      "...                           ...\n",
      "2022-07-16 04:48:21           0.0\n",
      "2022-07-16 04:53:21           0.0\n",
      "2022-07-16 04:58:21           0.0\n",
      "2022-07-16 05:03:21           0.0\n",
      "2022-07-16 05:08:21           0.0\n",
      "\n",
      "[15421 rows x 1 columns]\n"
     ]
    },
    {
     "data": {
      "image/png": "[encoded data removed]",
      "text/plain": [
       "<Figure size 1152x576 with 1 Axes>"
      ]
     },
     "metadata": {
      "needs_background": "light"
     },
     "output_type": "display_data"
    }
   ],
   "source": [
    "generated_ts=pd.read_csv(r'C:\\Users\\Alexandra Seibicke\\Desktop\\Praktikum\\iot-lab\\Predictions\\correct.csv', index_col = 'TimeStamps', parse_dates=True)\n",
    "#generated_ts=pd.read_csv(r'C:\\Users\\Alexandra Seibicke\\Desktop\\Mappe.csv', index_col = 'TimeStamps', parse_dates=True)\n",
    "generated_ts = generated_ts[~generated_ts.index.duplicated(keep='first')]\n",
    "generated_ts = generated_ts.asfreq('5T', method='pad')\n",
    "generated_ts['SensorValues'].plot(figsize=(16,8))\n",
    "temp = generated_ts['SensorValues']\n",
    "print(generated_ts)"
   ]
  },
  {
   "cell_type": "code",
   "execution_count": 16,
   "metadata": {
    "pycharm": {
     "name": "#%%\n"
    }
   },
   "outputs": [],
   "source": [
    "def df_to_X_y(df, window_size):\n",
    "    df_as_np = df.to_numpy()\n",
    "    X=[]\n",
    "    y=[]\n",
    "    for i in range(len(df_as_np)-window_size):\n",
    "        row=[[a] for a in df_as_np[i:i+window_size]]\n",
    "        X.append(row)\n",
    "        label = df_as_np[i+window_size]\n",
    "        y.append(label)\n",
    "    return np.array(X), np.array(y)\n"
   ]
  },
  {
   "cell_type": "code",
   "execution_count": 17,
   "metadata": {
    "pycharm": {
     "name": "#%%\n"
    }
   },
   "outputs": [
    {
     "name": "stdout",
     "output_type": "stream",
     "text": [
      "[[[0.]\n",
      "  [5.]\n",
      "  [5.]]\n",
      "\n",
      " [[5.]\n",
      "  [5.]\n",
      "  [5.]]\n",
      "\n",
      " [[5.]\n",
      "  [5.]\n",
      "  [5.]]\n",
      "\n",
      " ...\n",
      "\n",
      " [[0.]\n",
      "  [0.]\n",
      "  [0.]]\n",
      "\n",
      " [[0.]\n",
      "  [0.]\n",
      "  [0.]]\n",
      "\n",
      " [[0.]\n",
      "  [0.]\n",
      "  [0.]]]\n",
      "(15418, 3, 1)\n",
      "X: [[5.]\n",
      " [5.]\n",
      " [5.]]\n",
      "y: [5. 5. 0. ... 0. 0. 0.]\n"
     ]
    }
   ],
   "source": [
    "WINDOW_SIZE = 3\n",
    "X, y = df_to_X_y(temp, WINDOW_SIZE)\n",
    "print(X)\n",
    "print(X.shape)\n",
    "X.shape, y.shape\n",
    "print('X:', X[1])\n",
    "print('y:', y)"
   ]
  },
  {
   "cell_type": "code",
   "execution_count": 18,
   "metadata": {
    "pycharm": {
     "name": "#%%\n"
    }
   },
   "outputs": [],
   "source": [
    "X_train, y_train = X[:7500], y[:7500]\n",
    "X_val, y_val = X[7500:8350], y[7500:8350]\n",
    "X_test, y_test = X[8350:], y[8350:]"
   ]
  },
  {
   "cell_type": "code",
   "execution_count": 21,
   "metadata": {
    "pycharm": {
     "name": "#%%\n"
    }
   },
   "outputs": [],
   "source": [
    "from tensorflow.keras.layers import *\n",
    "from tensorflow.keras.models import Sequential\n",
    "from tensorflow.keras.callbacks import ModelCheckpoint\n",
    "from tensorflow.keras.losses import MeanSquaredError\n",
    "from tensorflow.keras.metrics import RootMeanSquaredError\n",
    "from tensorflow.keras.optimizers import Adam\n",
    "\n",
    "model = Sequential()\n",
    "#model.add(InputLayer((3,1)))\n",
    "#model.add(InputLayer((temp.size,1)))\n",
    "model.add(LSTM(64))\n",
    "model.add(Dense(8, 'relu'))\n",
    "model.add(Dense(1, 'linear'))\n",
    "\n",
    "# model.summary()"
   ]
  },
  {
   "cell_type": "code",
   "execution_count": 110,
   "metadata": {
    "pycharm": {
     "name": "#%%\n"
    }
   },
   "outputs": [],
   "source": [
    "cp = ModelCheckpoint('model/', save_best_only=True)\n",
    "model.compile(loss=MeanSquaredError(), optimizer=Adam(learning_rate=0.0001), metrics=[RootMeanSquaredError()])"
   ]
  },
  {
   "cell_type": "code",
   "execution_count": 111,
   "metadata": {
    "pycharm": {
     "name": "#%%\n"
    }
   },
   "outputs": [
    {
     "name": "stdout",
     "output_type": "stream",
     "text": [
      "Epoch 1/10\n",
      "222/235 [===========================>..] - ETA: 0s - loss: 0.9578 - root_mean_squared_error: 0.9787"
     ]
    },
    {
     "name": "stderr",
     "output_type": "stream",
     "text": [
      "WARNING:absl:Found untraced functions such as lstm_cell_3_layer_call_fn, lstm_cell_3_layer_call_and_return_conditional_losses while saving (showing 2 of 2). These functions will not be directly callable after loading.\n"
     ]
    },
    {
     "name": "stdout",
     "output_type": "stream",
     "text": [
      "INFO:tensorflow:Assets written to: model\\assets\n"
     ]
    },
    {
     "name": "stderr",
     "output_type": "stream",
     "text": [
      "INFO:tensorflow:Assets written to: model\\assets\n"
     ]
    },
    {
     "name": "stdout",
     "output_type": "stream",
     "text": [
      "235/235 [==============================] - 5s 15ms/step - loss: 0.9578 - root_mean_squared_error: 0.9787 - val_loss: 56.8928 - val_root_mean_squared_error: 7.5427\n",
      "Epoch 2/10\n",
      "218/235 [==========================>...] - ETA: 0s - loss: 0.8722 - root_mean_squared_error: 0.9339"
     ]
    },
    {
     "name": "stderr",
     "output_type": "stream",
     "text": [
      "WARNING:absl:Found untraced functions such as lstm_cell_3_layer_call_fn, lstm_cell_3_layer_call_and_return_conditional_losses while saving (showing 2 of 2). These functions will not be directly callable after loading.\n"
     ]
    },
    {
     "name": "stdout",
     "output_type": "stream",
     "text": [
      "INFO:tensorflow:Assets written to: model\\assets\n"
     ]
    },
    {
     "name": "stderr",
     "output_type": "stream",
     "text": [
      "INFO:tensorflow:Assets written to: model\\assets\n"
     ]
    },
    {
     "name": "stdout",
     "output_type": "stream",
     "text": [
      "235/235 [==============================] - 3s 14ms/step - loss: 0.8630 - root_mean_squared_error: 0.9290 - val_loss: 56.3208 - val_root_mean_squared_error: 7.5047\n",
      "Epoch 3/10\n",
      "229/235 [============================>.] - ETA: 0s - loss: 0.7643 - root_mean_squared_error: 0.8742"
     ]
    },
    {
     "name": "stderr",
     "output_type": "stream",
     "text": [
      "WARNING:absl:Found untraced functions such as lstm_cell_3_layer_call_fn, lstm_cell_3_layer_call_and_return_conditional_losses while saving (showing 2 of 2). These functions will not be directly callable after loading.\n"
     ]
    },
    {
     "name": "stdout",
     "output_type": "stream",
     "text": [
      "INFO:tensorflow:Assets written to: model\\assets\n"
     ]
    },
    {
     "name": "stderr",
     "output_type": "stream",
     "text": [
      "INFO:tensorflow:Assets written to: model\\assets\n"
     ]
    },
    {
     "name": "stdout",
     "output_type": "stream",
     "text": [
      "235/235 [==============================] - 3s 14ms/step - loss: 0.7893 - root_mean_squared_error: 0.8884 - val_loss: 55.7994 - val_root_mean_squared_error: 7.4699\n",
      "Epoch 4/10\n",
      "228/235 [============================>.] - ETA: 0s - loss: 0.7474 - root_mean_squared_error: 0.8645"
     ]
    },
    {
     "name": "stderr",
     "output_type": "stream",
     "text": [
      "WARNING:absl:Found untraced functions such as lstm_cell_3_layer_call_fn, lstm_cell_3_layer_call_and_return_conditional_losses while saving (showing 2 of 2). These functions will not be directly callable after loading.\n"
     ]
    },
    {
     "name": "stdout",
     "output_type": "stream",
     "text": [
      "INFO:tensorflow:Assets written to: model\\assets\n"
     ]
    },
    {
     "name": "stderr",
     "output_type": "stream",
     "text": [
      "INFO:tensorflow:Assets written to: model\\assets\n"
     ]
    },
    {
     "name": "stdout",
     "output_type": "stream",
     "text": [
      "235/235 [==============================] - 3s 15ms/step - loss: 0.7282 - root_mean_squared_error: 0.8533 - val_loss: 55.3786 - val_root_mean_squared_error: 7.4417\n",
      "Epoch 5/10\n",
      "234/235 [============================>.] - ETA: 0s - loss: 0.6753 - root_mean_squared_error: 0.8218"
     ]
    },
    {
     "name": "stderr",
     "output_type": "stream",
     "text": [
      "WARNING:absl:Found untraced functions such as lstm_cell_3_layer_call_fn, lstm_cell_3_layer_call_and_return_conditional_losses while saving (showing 2 of 2). These functions will not be directly callable after loading.\n"
     ]
    },
    {
     "name": "stdout",
     "output_type": "stream",
     "text": [
      "INFO:tensorflow:Assets written to: model\\assets\n"
     ]
    },
    {
     "name": "stderr",
     "output_type": "stream",
     "text": [
      "INFO:tensorflow:Assets written to: model\\assets\n"
     ]
    },
    {
     "name": "stdout",
     "output_type": "stream",
     "text": [
      "235/235 [==============================] - 4s 16ms/step - loss: 0.6743 - root_mean_squared_error: 0.8212 - val_loss: 55.0666 - val_root_mean_squared_error: 7.4207\n",
      "Epoch 6/10\n",
      "220/235 [===========================>..] - ETA: 0s - loss: 0.5983 - root_mean_squared_error: 0.7735"
     ]
    },
    {
     "name": "stderr",
     "output_type": "stream",
     "text": [
      "WARNING:absl:Found untraced functions such as lstm_cell_3_layer_call_fn, lstm_cell_3_layer_call_and_return_conditional_losses while saving (showing 2 of 2). These functions will not be directly callable after loading.\n"
     ]
    },
    {
     "name": "stdout",
     "output_type": "stream",
     "text": [
      "INFO:tensorflow:Assets written to: model\\assets\n"
     ]
    },
    {
     "name": "stderr",
     "output_type": "stream",
     "text": [
      "INFO:tensorflow:Assets written to: model\\assets\n"
     ]
    },
    {
     "name": "stdout",
     "output_type": "stream",
     "text": [
      "235/235 [==============================] - 3s 14ms/step - loss: 0.6294 - root_mean_squared_error: 0.7934 - val_loss: 54.7103 - val_root_mean_squared_error: 7.3966\n",
      "Epoch 7/10\n",
      "215/235 [==========================>...] - ETA: 0s - loss: 0.6244 - root_mean_squared_error: 0.7902"
     ]
    },
    {
     "name": "stderr",
     "output_type": "stream",
     "text": [
      "WARNING:absl:Found untraced functions such as lstm_cell_3_layer_call_fn, lstm_cell_3_layer_call_and_return_conditional_losses while saving (showing 2 of 2). These functions will not be directly callable after loading.\n"
     ]
    },
    {
     "name": "stdout",
     "output_type": "stream",
     "text": [
      "INFO:tensorflow:Assets written to: model\\assets\n"
     ]
    },
    {
     "name": "stderr",
     "output_type": "stream",
     "text": [
      "INFO:tensorflow:Assets written to: model\\assets\n"
     ]
    },
    {
     "name": "stdout",
     "output_type": "stream",
     "text": [
      "235/235 [==============================] - 3s 14ms/step - loss: 0.5912 - root_mean_squared_error: 0.7689 - val_loss: 54.4149 - val_root_mean_squared_error: 7.3766\n",
      "Epoch 8/10\n",
      "215/235 [==========================>...] - ETA: 0s - loss: 0.5487 - root_mean_squared_error: 0.7407"
     ]
    },
    {
     "name": "stderr",
     "output_type": "stream",
     "text": [
      "WARNING:absl:Found untraced functions such as lstm_cell_3_layer_call_fn, lstm_cell_3_layer_call_and_return_conditional_losses while saving (showing 2 of 2). These functions will not be directly callable after loading.\n"
     ]
    },
    {
     "name": "stdout",
     "output_type": "stream",
     "text": [
      "INFO:tensorflow:Assets written to: model\\assets\n"
     ]
    },
    {
     "name": "stderr",
     "output_type": "stream",
     "text": [
      "INFO:tensorflow:Assets written to: model\\assets\n"
     ]
    },
    {
     "name": "stdout",
     "output_type": "stream",
     "text": [
      "235/235 [==============================] - 3s 14ms/step - loss: 0.5579 - root_mean_squared_error: 0.7469 - val_loss: 54.1320 - val_root_mean_squared_error: 7.3574\n",
      "Epoch 9/10\n",
      "214/235 [==========================>...] - ETA: 0s - loss: 0.5106 - root_mean_squared_error: 0.7145"
     ]
    },
    {
     "name": "stderr",
     "output_type": "stream",
     "text": [
      "WARNING:absl:Found untraced functions such as lstm_cell_3_layer_call_fn, lstm_cell_3_layer_call_and_return_conditional_losses while saving (showing 2 of 2). These functions will not be directly callable after loading.\n"
     ]
    },
    {
     "name": "stdout",
     "output_type": "stream",
     "text": [
      "INFO:tensorflow:Assets written to: model\\assets\n"
     ]
    },
    {
     "name": "stderr",
     "output_type": "stream",
     "text": [
      "INFO:tensorflow:Assets written to: model\\assets\n"
     ]
    },
    {
     "name": "stdout",
     "output_type": "stream",
     "text": [
      "235/235 [==============================] - 4s 17ms/step - loss: 0.5295 - root_mean_squared_error: 0.7276 - val_loss: 53.8723 - val_root_mean_squared_error: 7.3398\n",
      "Epoch 10/10\n",
      "224/235 [===========================>..] - ETA: 0s - loss: 0.5026 - root_mean_squared_error: 0.7090"
     ]
    },
    {
     "name": "stderr",
     "output_type": "stream",
     "text": [
      "WARNING:absl:Found untraced functions such as lstm_cell_3_layer_call_fn, lstm_cell_3_layer_call_and_return_conditional_losses while saving (showing 2 of 2). These functions will not be directly callable after loading.\n"
     ]
    },
    {
     "name": "stdout",
     "output_type": "stream",
     "text": [
      "INFO:tensorflow:Assets written to: model\\assets\n"
     ]
    },
    {
     "name": "stderr",
     "output_type": "stream",
     "text": [
      "INFO:tensorflow:Assets written to: model\\assets\n"
     ]
    },
    {
     "name": "stdout",
     "output_type": "stream",
     "text": [
      "\b\b\b\b\b\b\b\b\b\b\b\b\b\b\b\b\b\b\b\b\b\b\b\b\b\b\b\b\b\b\b\b\b\b\b\b\b\b\b\b\b\b\b\b\b\b\b\b\b\b\b\b\b\b\b\b\b\b\b\b\b\b\b\b\b\b\b\b\b\b\b\b\b\b\b\b\b\b\b\b\b\b\b\b\b\b\b\b\b\b\b\b\b\b\b\b\b\b\b\r",
      "235/235 [==============================] - 3s 14ms/step - loss: 0.5027 - root_mean_squared_error: 0.7090 - val_loss: 53.6127 - val_root_mean_squared_error: 7.3221\n"
     ]
    },
    {
     "data": {
      "text/plain": [
       "<keras.callbacks.History at 0x1ad84e2b1f0>"
      ]
     },
     "execution_count": 111,
     "metadata": {},
     "output_type": "execute_result"
    }
   ],
   "source": [
    "model.fit(X_train, y_train, validation_data=(X_val, y_val), epochs=10, callbacks=[cp])"
   ]
  },
  {
   "cell_type": "code",
   "execution_count": 112,
   "metadata": {
    "pycharm": {
     "name": "#%%\n"
    }
   },
   "outputs": [],
   "source": [
    "from tensorflow.keras.models import load_model\n",
    "model=load_model('model/')"
   ]
  },
  {
   "cell_type": "code",
   "execution_count": 113,
   "metadata": {
    "pycharm": {
     "name": "#%%\n"
    }
   },
   "outputs": [
    {
     "name": "stdout",
     "output_type": "stream",
     "text": [
      "235/235 [==============================] - 1s 1ms/step\n"
     ]
    },
    {
     "data": {
      "text/html": [
       "<div>\n",
       "<style scoped>\n",
       "    .dataframe tbody tr th:only-of-type {\n",
       "        vertical-align: middle;\n",
       "    }\n",
       "\n",
       "    .dataframe tbody tr th {\n",
       "        vertical-align: top;\n",
       "    }\n",
       "\n",
       "    .dataframe thead th {\n",
       "        text-align: right;\n",
       "    }\n",
       "</style>\n",
       "<table border=\"1\" class=\"dataframe\">\n",
       "  <thead>\n",
       "    <tr style=\"text-align: right;\">\n",
       "      <th></th>\n",
       "      <th>Train Predictions</th>\n",
       "      <th>Actuals</th>\n",
       "    </tr>\n",
       "  </thead>\n",
       "  <tbody>\n",
       "    <tr>\n",
       "      <th>0</th>\n",
       "      <td>7.076672</td>\n",
       "      <td>5.0</td>\n",
       "    </tr>\n",
       "    <tr>\n",
       "      <th>1</th>\n",
       "      <td>4.839847</td>\n",
       "      <td>5.0</td>\n",
       "    </tr>\n",
       "    <tr>\n",
       "      <th>2</th>\n",
       "      <td>4.839847</td>\n",
       "      <td>0.0</td>\n",
       "    </tr>\n",
       "    <tr>\n",
       "      <th>3</th>\n",
       "      <td>0.350386</td>\n",
       "      <td>0.0</td>\n",
       "    </tr>\n",
       "    <tr>\n",
       "      <th>4</th>\n",
       "      <td>-0.323138</td>\n",
       "      <td>0.0</td>\n",
       "    </tr>\n",
       "    <tr>\n",
       "      <th>...</th>\n",
       "      <td>...</td>\n",
       "      <td>...</td>\n",
       "    </tr>\n",
       "    <tr>\n",
       "      <th>7495</th>\n",
       "      <td>0.013577</td>\n",
       "      <td>0.0</td>\n",
       "    </tr>\n",
       "    <tr>\n",
       "      <th>7496</th>\n",
       "      <td>0.013577</td>\n",
       "      <td>0.0</td>\n",
       "    </tr>\n",
       "    <tr>\n",
       "      <th>7497</th>\n",
       "      <td>0.013577</td>\n",
       "      <td>0.0</td>\n",
       "    </tr>\n",
       "    <tr>\n",
       "      <th>7498</th>\n",
       "      <td>0.013577</td>\n",
       "      <td>0.0</td>\n",
       "    </tr>\n",
       "    <tr>\n",
       "      <th>7499</th>\n",
       "      <td>0.013577</td>\n",
       "      <td>0.0</td>\n",
       "    </tr>\n",
       "  </tbody>\n",
       "</table>\n",
       "<p>7500 rows × 2 columns</p>\n",
       "</div>"
      ],
      "text/plain": [
       "      Train Predictions  Actuals\n",
       "0              7.076672      5.0\n",
       "1              4.839847      5.0\n",
       "2              4.839847      0.0\n",
       "3              0.350386      0.0\n",
       "4             -0.323138      0.0\n",
       "...                 ...      ...\n",
       "7495           0.013577      0.0\n",
       "7496           0.013577      0.0\n",
       "7497           0.013577      0.0\n",
       "7498           0.013577      0.0\n",
       "7499           0.013577      0.0\n",
       "\n",
       "[7500 rows x 2 columns]"
      ]
     },
     "execution_count": 113,
     "metadata": {},
     "output_type": "execute_result"
    }
   ],
   "source": [
    "train_predictions = model.predict(X_train).flatten()\n",
    "train_results=pd.DataFrame(data={'Train Predictions':train_predictions, 'Actuals':y_train})\n",
    "train_results"
   ]
  },
  {
   "cell_type": "code",
   "execution_count": 115,
   "metadata": {
    "pycharm": {
     "name": "#%%\n"
    }
   },
   "outputs": [
    {
     "data": {
      "text/plain": [
       "[<matplotlib.lines.Line2D at 0x1ad84ca40a0>]"
      ]
     },
     "execution_count": 115,
     "metadata": {},
     "output_type": "execute_result"
    },
    {
     "data": {
      "image/png": "[encoded data removed]",
      "text/plain": [
       "<Figure size 432x288 with 1 Axes>"
      ]
     },
     "metadata": {
      "needs_background": "light"
     },
     "output_type": "display_data"
    }
   ],
   "source": [
    "import matplotlib.pyplot as plt\n",
    "plt.plot(train_results['Train Predictions'][2000:2100])\n",
    "plt.plot(train_results['Actuals'][2000:2100])"
   ]
  },
  {
   "cell_type": "code",
   "execution_count": 118,
   "metadata": {
    "pycharm": {
     "name": "#%%\n"
    }
   },
   "outputs": [
    {
     "name": "stdout",
     "output_type": "stream",
     "text": [
      "27/27 [==============================] - 0s 1ms/step\n"
     ]
    },
    {
     "data": {
      "text/plain": [
       "[<matplotlib.lines.Line2D at 0x1ad84febc10>]"
      ]
     },
     "execution_count": 118,
     "metadata": {},
     "output_type": "execute_result"
    },
    {
     "data": {
      "image/png": "[encoded data removed]",
      "text/plain": [
       "<Figure size 432x288 with 1 Axes>"
      ]
     },
     "metadata": {
      "needs_background": "light"
     },
     "output_type": "display_data"
    }
   ],
   "source": [
    "val_predictions = model.predict(X_val).flatten()\n",
    "val_results=pd.DataFrame(data={'Train Predictions':val_predictions, 'Actuals':y_val})\n",
    "plt.plot(val_results['Train Predictions'])\n",
    "plt.plot(val_results['Actuals'])"
   ]
  },
  {
   "cell_type": "code",
   "execution_count": 134,
   "metadata": {
    "pycharm": {
     "name": "#%%\n"
    }
   },
   "outputs": [
    {
     "name": "stdout",
     "output_type": "stream",
     "text": [
      "151/151 [==============================] - 0s 1ms/step\n"
     ]
    },
    {
     "data": {
      "text/plain": [
       "[<matplotlib.lines.Line2D at 0x23eeb2b7520>]"
      ]
     },
     "execution_count": 134,
     "metadata": {},
     "output_type": "execute_result"
    },
    {
     "data": {
      "image/png": "[encoded data removed]",
      "text/plain": [
       "<Figure size 432x288 with 1 Axes>"
      ]
     },
     "metadata": {
      "needs_background": "light"
     },
     "output_type": "display_data"
    }
   ],
   "source": [
    "test_predictions = model.predict(X_test).flatten()\n",
    "test_results=pd.DataFrame(data={'Train Predictions':test_predictions, 'Actuals':y_test})\n",
    "plt.plot(test_results['Train Predictions'].round(decimals=0))\n",
    "plt.plot(test_results['Actuals'])"
   ]
  },
  {
   "cell_type": "code",
   "execution_count": 120,
   "metadata": {
    "pycharm": {
     "name": "#%%\n"
    }
   },
   "outputs": [],
   "source": [
    "# print(temp.shape)\n",
    "# prediction=model.predict(temp).flatten\n",
    "# print(prediction)"
   ]
  },
  {
   "cell_type": "code",
   "execution_count": 153,
   "metadata": {
    "pycharm": {
     "name": "#%%\n"
    }
   },
   "outputs": [
    {
     "name": "stdout",
     "output_type": "stream",
     "text": [
      "_________________\n",
      "np array: \t [[5]\n",
      " [6]]\n",
      "value 1: 5\n",
      "value 2: 6\n",
      "1/1 [==============================] - 0s 15ms/step\n",
      "prediction1: [2.8701909 3.361562 ]\n",
      "value: [2.8701909 3.361562 ]\n"
     ]
    }
   ],
   "source": [
    "#print(X_test)\n",
    "print('_________________')\n",
    "lst = []\n",
    "lst1 = []\n",
    "lst2 = []\n",
    "lst3 = []\n",
    "#lst.append(X_test[-1].tolist())\n",
    "lst1.append(5)\n",
    "lst2.append(6)\n",
    "# lst3.append(7)\n",
    "lst.append(lst1)\n",
    "lst.append(lst2)\n",
    "# lst.append(lst3)\n",
    "value = np.array(lst)\n",
    "print('np array: \\t', np.array(lst))\n",
    "print ('value 1:', value[0][0])\n",
    "print ('value 2:', value[1][0])\n",
    "# print ('value 3:', value[2][0])\n",
    "\n",
    "prediction_1 = model.predict(value).flatten()\n",
    "\n",
    "\n",
    "print('prediction1:', prediction_1)\n",
    "# value[0][0] = prediction_1\n",
    "print('value:', prediction_1)\n",
    "\n",
    "# prediction_1 = model.predict(value).flatten()\n",
    "# prediction_1 = model.predict(value).flatten()\n",
    "# print(test_predictions[-1])\n",
    "#test_results=pd.DataFrame(data={'Test Predictions':test_predictions})\n",
    "# plt.plot(test_predictions['Test Predictions'].round(decimals=0))\n",
    "# plt.plot(test_results['Actuals'])"
   ]
  },
  {
   "cell_type": "code",
   "execution_count": null,
   "outputs": [],
   "source": [
    "from tensorflow.keras.models import load_model\n",
    "model=load_model('model/')"
   ],
   "metadata": {
    "collapsed": false,
    "pycharm": {
     "name": "#%%\n"
    }
   }
  },
  {
   "cell_type": "code",
   "execution_count": 26,
   "metadata": {
    "pycharm": {
     "name": "#%%\n"
    }
   },
   "outputs": [
    {
     "name": "stdout",
     "output_type": "stream",
     "text": [
      "[[[0]\n",
      "  [0]\n",
      "  [0]]\n",
      "\n",
      " [[0]\n",
      "  [0]\n",
      "  [0]]\n",
      "\n",
      " [[0]\n",
      "  [0]\n",
      "  [0]]\n",
      "\n",
      " ...\n",
      "\n",
      " [[0]\n",
      "  [0]\n",
      "  [0]]\n",
      "\n",
      " [[0]\n",
      "  [0]\n",
      "  [0]]\n",
      "\n",
      " [[0]\n",
      "  [0]\n",
      "  [0]]]\n",
      "(436, 3, 1)\n",
      "X: [[0]\n",
      " [0]\n",
      " [0]]\n",
      "y: [0 0 0 0 0 0 0 0 0 0 0 0 0 0 0 0 0 0 0 0 0 0 0 0 0 0 0 0 0 0 0 0 0 0 0 0 0\n",
      " 0 0 1 2 2 2 0 0 0 0 0 0 0 1 0 1 0 0 0 0 0 0 0 1 1 1 1 1 1 0 0 0 0 0 0 0 0\n",
      " 0 0 0 0 0 2 5 7 7 7 7 7 7 7 7 7 0 0 0 0 0 0 0 0 0 0 0 0 0 0 0 1 1 1 1 1 1\n",
      " 1 1 1 0 0 0 0 0 0 0 0 0 0 0 0 0 0 0 0 0 0 0 0 0 0 0 0 0 0 0 0 0 0 0 0 0 0\n",
      " 0 0 0 0 0 0 0 0 0 0 0 0 0 0 0 0 0 0 0 0 0 0 0 0 0 0 0 0 0 0 0 0 0 0 0 0 0\n",
      " 0 0 0 0 0 0 0 0 0 0 0 0 0 0 0 0 0 0 0 0 0 0 0 0 0 0 0 0 0 0 3 3 2 0 0 0 0\n",
      " 0 0 0 0 0 0 0 0 0 0 0 0 0 0 0 0 0 0 0 0 0 0 0 0 0 0 0 0 0 0 0 0 0 0 0 0 0\n",
      " 0 0 0 0 0 0 0 0 0 0 0 1 0 0 0 0 0 0 0 0 0 0 0 0 0 0 0 0 0 4 4 4 0 0 0 0 0\n",
      " 0 0 0 0 0 0 0 1 1 2 0 4 4 4 5 5 5 5 7 5 5 5 0 1 0 1 0 0 0 0 0 0 0 0 0 0 0\n",
      " 0 1 1 1 1 1 1 1 0 0 0 0 1 1 1 1 1 1 1 1 3 0 1 1 1 0 0 0 0 0 0 0 0 0 0 0 0\n",
      " 0 0 0 0 0 0 0 0 0 0 0 0 0 0 0 0 0 0 0 0 0 0 0 0 0 0 0 0 0 0 0 0 0 0 0 0 0\n",
      " 0 0 0 0 0 0 0 0 0 1 1 1 1 0 0 0 0 0 0 0 0 0 0 0 0 0 0 0 0]\n"
     ]
    }
   ],
   "source": [
    "WINDOW_SIZE = 3\n",
    "X, y = df_to_X_y(temp, WINDOW_SIZE)\n",
    "print(X)\n",
    "print(X.shape)\n",
    "X.shape, y.shape\n",
    "print('X:', X[1])\n",
    "print('y:', y)"
   ]
  },
  {
   "cell_type": "code",
   "execution_count": 28,
   "metadata": {
    "pycharm": {
     "name": "#%%\n"
    }
   },
   "outputs": [
    {
     "name": "stdout",
     "output_type": "stream",
     "text": [
      "14/14 [==============================] - 0s 1ms/step\n"
     ]
    },
    {
     "data": {
      "text/plain": [
       "[<matplotlib.lines.Line2D at 0x1adf131f4c0>]"
      ]
     },
     "execution_count": 28,
     "metadata": {},
     "output_type": "execute_result"
    },
    {
     "data": {
      "image/png": "[encoded data removed]",
      "text/plain": [
       "<Figure size 432x288 with 1 Axes>"
      ]
     },
     "metadata": {
      "needs_background": "light"
     },
     "output_type": "display_data"
    }
   ],
   "source": [
    "import matplotlib.pyplot as plt\n",
    "test_predictions = model.predict(X).flatten()\n",
    "test_results=pd.DataFrame(data={'Train Predictions':test_predictions, 'Actuals':y})\n",
    "plt.plot(test_results['Train Predictions'].round(decimals=0))\n",
    "plt.plot(test_results['Actuals'])"
   ]
  },
  {
   "cell_type": "code",
   "execution_count": 65,
   "metadata": {
    "pycharm": {
     "name": "#%%\n"
    }
   },
   "outputs": [
    {
     "data": {
      "image/png": "[encoded data removed]",
      "text/plain": [
       "<Figure size 432x288 with 1 Axes>"
      ]
     },
     "metadata": {
      "needs_background": "light"
     },
     "output_type": "display_data"
    }
   ],
   "source": [
    "\n",
    "# example of increase in mean squared error\n",
    "from matplotlib import pyplot\n",
    "# from sklearn.metrics import mean_squared_error\n",
    "# real value\n",
    "expected = y\n",
    "# predicted value\n",
    "predicted = test_predictions\n",
    "# calculate errors\n",
    "errors = list()\n",
    "for i in range(len(expected)):\n",
    "\t# calculate error\n",
    "\terr = (expected[i] - predicted[i])**2\n",
    "\terr = np.sqrt(err)\n",
    "\t# store error\n",
    "\terrors.append(err)\n",
    "\t# report error\n",
    "\t# print('>%.1f, %.1f = %.3f' % (expected[i], predicted[i], err))\n",
    "# plot errors\n",
    "pyplot.plot(errors)\n",
    "pyplot.xticks(ticks=[i for i in range(len(errors))], labels=predicted)\n",
    "pyplot.xlabel('Predicted Value')\n",
    "pyplot.ylabel('Root Mean Squared Error')\n",
    "pyplot.show()"
   ]
  },
  {
   "cell_type": "code",
   "execution_count": 64,
   "metadata": {
    "pycharm": {
     "name": "#%%\n"
    }
   },
   "outputs": [
    {
     "data": {
      "image/png": "[encoded data removed]",
      "text/plain": [
       "<Figure size 432x288 with 1 Axes>"
      ]
     },
     "metadata": {
      "needs_background": "light"
     },
     "output_type": "display_data"
    }
   ],
   "source": [
    "# example of increase in mean squared error\n",
    "from matplotlib import pyplot\n",
    "# from sklearn.metrics import mean_squared_error\n",
    "# real value\n",
    "expected = y\n",
    "# predicted value\n",
    "predicted = test_predictions\n",
    "# calculate errors\n",
    "errors = list()\n",
    "for i in range(len(expected)):\n",
    "\t# calculate error\n",
    "\t#err = (expected[i] - predicted[i])**2\n",
    "\terr = abs((expected[i] - predicted[i]))\n",
    "\t# store error\n",
    "\terrors.append(err)\n",
    "\t# report error\n",
    "\t# print('>%.1f, %.1f = %.3f' % (expected[i], predicted[i], err))\n",
    "# plot errors\n",
    "pyplot.plot(errors)\n",
    "pyplot.xticks(ticks=[i for i in range(len(errors))], labels=predicted)\n",
    "pyplot.xlabel('Predicted Value')\n",
    "pyplot.ylabel('Mean Absolute Error')\n",
    "pyplot.show()"
   ]
  },
  {
   "cell_type": "code",
   "execution_count": 69,
   "metadata": {
    "pycharm": {
     "name": "#%%\n"
    }
   },
   "outputs": [
    {
     "name": "stdout",
     "output_type": "stream",
     "text": [
      "0.2625881669991607\n"
     ]
    }
   ],
   "source": [
    "from sklearn.metrics import mean_squared_error, mean_absolute_error\n",
    "#errors = mean_squared_error(expected, predicted, squared=True)\n",
    "errors = mean_absolute_error(expected, predicted)\n",
    "print(errors)"
   ]
  },
  {
   "cell_type": "code",
   "execution_count": 73,
   "metadata": {
    "pycharm": {
     "name": "#%%\n"
    }
   },
   "outputs": [
    {
     "name": "stdout",
     "output_type": "stream",
     "text": [
      "6.567478301943443\n"
     ]
    }
   ],
   "source": [
    "def Average(lst):\n",
    "    return sum(lst) / len(lst)\n",
    "\n",
    "errors = list()\n",
    "for i in range(len(expected)):\n",
    "# calculate error\n",
    "#err = (expected[i] - predicted[i])**2\n",
    "    if expected[i]==0:\n",
    "        err=0\n",
    "    else:\n",
    "        err = np.abs(expected[i]-predicted[i])/expected[i]*100\n",
    "    errors.append(err)\n",
    "print(Average(errors))\n",
    "\n"
   ]
  },
  {
   "cell_type": "code",
   "execution_count": 108,
   "metadata": {
    "pycharm": {
     "name": "#%%\n"
    }
   },
   "outputs": [
    {
     "name": "stdout",
     "output_type": "stream",
     "text": [
      "[[[1]\n",
      "  [0]\n",
      "  [1]]\n",
      "\n",
      " [[0]\n",
      "  [1]\n",
      "  [0]]\n",
      "\n",
      " [[1]\n",
      "  [0]\n",
      "  [1]]\n",
      "\n",
      " ...\n",
      "\n",
      " [[0]\n",
      "  [1]\n",
      "  [0]]\n",
      "\n",
      " [[1]\n",
      "  [0]\n",
      "  [1]]\n",
      "\n",
      " [[0]\n",
      "  [1]\n",
      "  [0]]]\n",
      "(942, 3, 1)\n",
      "X: [[0]\n",
      " [1]\n",
      " [0]]\n",
      "y: [ 0  1  1  1  1  1  1  1  1  1  1  1  1  1  1  1  1  1  1  0  1  0  1  0\n",
      "  1  2  1  2  1  2  1  2  1  2  3  2  3  2  1  0  0  0  1  2  3  4  5  6\n",
      "  7  8  9 10  9 10  9 10 11 10  9 10 11 12 13 14 13 12 11 10  9  8  7  6\n",
      "  7  6  5  6  5  4  3  2  3  2  3  4  3  4  5  4  5  6  7  6  7  6  7  6\n",
      "  7  8  9 10 11 12 13 12 11 10  9  8  7  6  5  6  5  6  5  4  3  2  1  0\n",
      "  1  2  3  2  1  0  1  0  1  0  1  2  4  3  3  4  5  6  7  8 10  9 11 12\n",
      " 13 14 15 16 17 18 19 20 19 20 21 22 23 24 25 26 27 26 25 24 23 22 21 20\n",
      " 19 18 17 16 15 14 13 12 11 12 11 10  9  8  7  6  5  4  3  2  3  4  5  6\n",
      "  7  6  7  8  9 10 11 12 13 14 15 16 15 16 17 18 19 18 19 18 17 16 15 14\n",
      " 13 12 11 10  9  8  7  6  5  4  3  2  0  0  0  0  0  0  0  0  0  0  0  0\n",
      "  0  1  1  1  1  1  1  1  1  1  1  1  1  1  1  1  1  2  1  0  1  0  0  0\n",
      "  0  0  0  0  0  0  0  0  1  2  3  4  3  2  3  4  5  6  5  4  5  4  3  4\n",
      "  5  6  7  6  7  8  9 10 11 12 13 12 11 12 13 14 13 14 13 12 13 14 13 12\n",
      " 11 12 11 10  9  8  7  8  7  8  7  6  7  6  5  4  3  2  1  2  1  2  1  0\n",
      "  1  0  1  1  2  2  3  2  3  4  5  4  5  6  5  6  5  4  5  6  5  4  5  4\n",
      "  5  4  5  4  5  4  5  4  5  4  5  4  5  6  7  8  7  8  7  6  7  6  7  6\n",
      "  7  8  7  8  7  8  7  8  9 10 11 10  9 10  9 10 11 10 11 10 11 12 13 14\n",
      " 13 14 13 14 13 14 13 14 13 12 13 12 13 12 11 10 11 10 11 10 11 10 11 12\n",
      " 11 12 11 12 11 12 11 12 13 14 13 14 15 14 13 12 11 10 11 10 11 10 11 12\n",
      " 11 12 11 12 13 12 11 10 11 10 11 10 11 10 11 12 13 12 11 12 11 12 11 10\n",
      " 11 12 11 10  9 10  9 10  9  8  7  8  9  8  7  8  7  8  9  8  9  8  7  8\n",
      "  9 10 11 10 11 10  9 10 11 10  9  8  9  8  9  8  7  8  7  6  7  8  7  6\n",
      "  5  1  0  0  1  0  1  2  3  4  5  6  7  8  9  8  9  8  9  8  7  8  9  8\n",
      "  9  8  9  8  7  6  7  6  7  6  7  6  7  6  5  6  7  8  7  8  9  8  8  9\n",
      "  9  8  7  6  7  8  9  8  9  8  7  8  7  6  7  8 10 10  9  9  9 10  9  8\n",
      "  9 10  9 10  9 10  9  8  7  8  7  8  9 10  9  8  7  8  9 10  9 10  9  8\n",
      "  9 10  9 10  9  8  7  8  7  6  7  6  1  0  1  0  1  2  3  4  5  6  7  8\n",
      "  7  6  7  8  9 10 11 10 11 10 11 10  9  8  9  8  9 10 11 10 11 12 11 12\n",
      " 13 12 13 12 11 10  9  8  9  8  9 10  9 10 11 12 11 12 11 10  9  8  9 10\n",
      " 11 12 11 12 11 12 13 14 13 14 15 16 15 16 15 16 15 16 15 16 17 16 17 16\n",
      " 15 14 15 14 13 14 13 14 15 14 13 12 11 10  9  8  7  6  5  6  7  6  5  6\n",
      "  5  4  5  6  5  6  5  4  5  1  0  0  1  0  1  0  1  0  1  2  1  2  1  2\n",
      "  1  0  1  0  1  0  1  2  1  2  1  2  1  2  3  2  1  2  1  2  1  2  1  2\n",
      "  1  2  3  4  5  6  7  6  5  4  3  4  3  4  3  4  3  4  5  6  7  8  9  8\n",
      "  9 10  1  2  3  2  1  0  0  1  2  3  4  3  4  3  2  1  0  1  2  3  4  5\n",
      "  4  5  4  5  4  5  4  5  4  5  6  5  6  7  6  7  6  5  4  5  4  5  6  7\n",
      "  6  5  6  5  6  5  6  7  8  7  6  7  6  5  6  5  6  7  6  7  8  7  6  5\n",
      "  4  3  4  3  4  3  4  3  2  3  2  3  2  3  2  1  2  3  2  3  2  3  4  3\n",
      "  4  5  4  5  4  3  2  3  2  1  0  0  0  1  0  1  0  1  0  1  0  1  2  1\n",
      "  0  1  0  1  0  0]\n",
      "30/30 [==============================] - 0s 1ms/step\n"
     ]
    },
    {
     "data": {
      "text/plain": [
       "[<matplotlib.lines.Line2D at 0x1ad850f0a30>]"
      ]
     },
     "execution_count": 108,
     "metadata": {},
     "output_type": "execute_result"
    },
    {
     "data": {
      "image/png": "[encoded data removed]",
      "text/plain": [
       "<Figure size 432x288 with 1 Axes>"
      ]
     },
     "metadata": {
      "needs_background": "light"
     },
     "output_type": "display_data"
    }
   ],
   "source": [
    "#reference['value'].plot(figsize=(16,8))\n",
    "#generated_ts['SensorValues'].plot(figsize=(16,8))\n",
    "generated_ts=pd.read_csv(r'C:\\Users\\Alexandra Seibicke\\Desktop\\Mappe4.csv', parse_dates=True, sep=';')\n",
    "reference=pd.read_csv(r'C:\\Users\\Alexandra Seibicke\\Desktop\\new.csv', sep=';')\n",
    "\n",
    "temp = reference['value']\n",
    "WINDOW_SIZE = 3\n",
    "X, y = df_to_X_y(temp, WINDOW_SIZE)\n",
    "print(X)\n",
    "print(X.shape)\n",
    "X.shape, y.shape\n",
    "print('X:', (X[1]))\n",
    "print('y:', y)\n",
    "\n",
    "import matplotlib.pyplot as plt\n",
    "test_predictions = model.predict(X).flatten()\n",
    "test_results=pd.DataFrame(data={'Train Predictions':test_predictions, 'Actuals':y})\n",
    "plt.plot(test_results['Train Predictions'].round(decimals=0))\n",
    "plt.plot(test_results['Actuals'])\n"
   ]
  },
  {
   "cell_type": "code",
   "execution_count": 102,
   "metadata": {
    "pycharm": {
     "name": "#%%\n"
    }
   },
   "outputs": [
    {
     "data": {
      "image/png": "[encoded data removed]",
      "text/plain": [
       "<Figure size 432x288 with 1 Axes>"
      ]
     },
     "metadata": {
      "needs_background": "light"
     },
     "output_type": "display_data"
    }
   ],
   "source": [
    "\n",
    "# example of increase in mean squared error\n",
    "from matplotlib import pyplot\n",
    "# from sklearn.metrics import mean_squared_error\n",
    "# real value\n",
    "expected = y\n",
    "# predicted value\n",
    "predicted = test_predictions\n",
    "# calculate errors\n",
    "errors = list()\n",
    "for i in range(len(expected)):\n",
    "\t# calculate error\n",
    "\terr = (expected[i] - predicted[i])**2\n",
    "\terr = np.sqrt(err)\n",
    "\t# store error\n",
    "\terrors.append(err)\n",
    "\t# report error\n",
    "\t# print('>%.1f, %.1f = %.3f' % (expected[i], predicted[i], err))\n",
    "# plot errors\n",
    "pyplot.plot(errors)\n",
    "pyplot.xticks(ticks=[i for i in range(len(errors))], labels=predicted)\n",
    "pyplot.xlabel('Predicted Value')\n",
    "pyplot.ylabel('Root Mean Squared Error')\n",
    "pyplot.show()"
   ]
  },
  {
   "cell_type": "code",
   "execution_count": 103,
   "metadata": {
    "pycharm": {
     "name": "#%%\n"
    }
   },
   "outputs": [
    {
     "data": {
      "image/png": "[encoded data removed]",
      "text/plain": [
       "<Figure size 432x288 with 1 Axes>"
      ]
     },
     "metadata": {
      "needs_background": "light"
     },
     "output_type": "display_data"
    }
   ],
   "source": [
    "# example of increase in mean squared error\n",
    "from matplotlib import pyplot\n",
    "# from sklearn.metrics import mean_squared_error\n",
    "# real value\n",
    "expected = y\n",
    "# predicted value\n",
    "predicted = test_predictions\n",
    "# calculate errors\n",
    "errors = list()\n",
    "for i in range(len(expected)):\n",
    "\t# calculate error\n",
    "\t#err = (expected[i] - predicted[i])**2\n",
    "\terr = abs((expected[i] - predicted[i]))\n",
    "\t# store error\n",
    "\terrors.append(err)\n",
    "\t# report error\n",
    "\t# print('>%.1f, %.1f = %.3f' % (expected[i], predicted[i], err))\n",
    "# plot errors\n",
    "pyplot.plot(errors)\n",
    "pyplot.xticks(ticks=[i for i in range(len(errors))], labels=predicted)\n",
    "pyplot.xlabel('Predicted Value')\n",
    "pyplot.ylabel('Mean Absolute Error')\n",
    "pyplot.show()"
   ]
  },
  {
   "cell_type": "code",
   "execution_count": 105,
   "metadata": {
    "pycharm": {
     "name": "#%%\n"
    }
   },
   "outputs": [
    {
     "name": "stdout",
     "output_type": "stream",
     "text": [
      "3.096018124988663\n"
     ]
    }
   ],
   "source": [
    "from sklearn.metrics import mean_squared_error, mean_absolute_error\n",
    "errors = mean_squared_error(expected, predicted, squared=True)\n",
    "#errors = mean_absolute_error(expected, predicted)\n",
    "print(errors)"
   ]
  },
  {
   "cell_type": "code",
   "execution_count": 106,
   "metadata": {
    "pycharm": {
     "name": "#%%\n"
    }
   },
   "outputs": [
    {
     "name": "stdout",
     "output_type": "stream",
     "text": [
      "22.348138534716774\n"
     ]
    }
   ],
   "source": [
    "def Average(lst):\n",
    "    return sum(lst) / len(lst)\n",
    "\n",
    "errors = list()\n",
    "for i in range(len(expected)):\n",
    "# calculate error\n",
    "#err = (expected[i] - predicted[i])**2\n",
    "    if expected[i]==0:\n",
    "        err=0\n",
    "    else:\n",
    "        err = np.abs(expected[i]-predicted[i])/expected[i]*100\n",
    "    errors.append(err)\n",
    "print(Average(errors))"
   ]
  },
  {
   "cell_type": "code",
   "execution_count": null,
   "metadata": {
    "pycharm": {
     "name": "#%%\n"
    }
   },
   "outputs": [],
   "source": []
  }
 ],
 "metadata": {
  "kernelspec": {
   "display_name": "Python 3 (ipykernel)",
   "language": "python",
   "name": "python3"
  },
  "language_info": {
   "codemirror_mode": {
    "name": "ipython",
    "version": 3
   },
   "file_extension": ".py",
   "mimetype": "text/x-python",
   "name": "python",
   "nbconvert_exporter": "python",
   "pygments_lexer": "ipython3",
   "version": "3.10.5"
  }
 },
 "nbformat": 4,
 "nbformat_minor": 2
}